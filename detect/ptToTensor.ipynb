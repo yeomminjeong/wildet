{
 "cells": [
  {
   "cell_type": "code",
   "execution_count": null,
   "metadata": {},
   "outputs": [],
   "source": [
    "import tensorflowjs as tfjs\n",
    "import onnx\n",
    "from onnx2keras import onnx_to_keras\n",
    "\n",
    "onnx_model = onnx.load('/Users/minjeongyeom/Projects/detect/yolov5s.onnx')\n",
    "input_names = [node.name for node in onnx_model.graph.input]\n",
    "# print(input_names)\n",
    "input_shape = (1, 3, 416, 416)\n",
    "k_model = onnx_to_keras(onnx_model, input_names=input_names)\n",
    "\n",
    "# Save Keras model as HDF5 file\n",
    "k_model.save('yolov5s.h5')\n",
    "\n",
    "# Convert Keras model to Tensorflow.js model\n",
    "tfjs.converters.save_keras_model(k_model, 'tfjs_model')\n"
   ]
  },
  {
   "cell_type": "code",
   "execution_count": null,
   "metadata": {},
   "outputs": [],
   "source": [
    "import torch\n",
    "import torchvision\n",
    "\n",
    "# ONNX 모델을 TensorFlow.js용 모델로 변환\n",
    "!tensorflowjs_converter --input_format=onnx ./yolov5s.onnx ./tfjs_model\n"
   ]
  },
  {
   "cell_type": "code",
   "execution_count": 4,
   "metadata": {},
   "outputs": [
    {
     "name": "stdout",
     "output_type": "stream",
     "text": [
      "zsh:1: command not found: tf2onnx.convert\n"
     ]
    }
   ],
   "source": [
    "python -m tf2onnx.convert --opset 13 --input input_1 --output Identity --inputs 1,3,640,640 --outputs 1, -1, 85 --verbose ./yolov5.onnx ./tfjs_model\n"
   ]
  },
  {
   "cell_type": "code",
   "execution_count": null,
   "metadata": {},
   "outputs": [],
   "source": [
    "import torch\n",
    "import onnx\n",
    "import onnx_tf\n",
    "import os\n",
    "import tensorflow as tf\n",
    "\n",
    "# ONNX 모델을 로드합니다.\n",
    "onnx_model = onnx.load(\"./yolov5s.onnx\")\n",
    "\n",
    "# TensorFlow 모델로 변환합니다.\n",
    "tf_model = onnx_tf.backend.prepare(onnx_model)\n",
    "\n",
    "# tf 모델 래핑 후 저장\n",
    "tf_model.export_graph('/tf_model')"
   ]
  },
  {
   "cell_type": "code",
   "execution_count": null,
   "metadata": {},
   "outputs": [],
   "source": []
  },
  {
   "cell_type": "code",
   "execution_count": 62,
   "metadata": {},
   "outputs": [
    {
     "data": {
      "text/plain": [
       "<tensorflow.python.saved_model.load.Loader._recreate_base_user_object.<locals>._UserObject at 0x7f87fa990f70>"
      ]
     },
     "execution_count": 62,
     "metadata": {},
     "output_type": "execute_result"
    }
   ],
   "source": [
    "import tensorflow as tf\n",
    "\n",
    "# TensorFlow 모델을 로드합니다.\n",
    "tf_model = tf.saved_model.load('../detect/tfjs_model')\n"
   ]
  },
  {
   "cell_type": "code",
   "execution_count": null,
   "metadata": {},
   "outputs": [],
   "source": [
    "#TensorFlow model -> Tensorflow.js\n",
    "tensorflowjs_converter --input_format=tf_saved_model --output_node_names=\"output\" /Users/minjeongyeom/Projects/project-wildet/detect/tfjs_model /Users/minjeongyeom/Projects/project-wildet/detect/model1"
   ]
  },
  {
   "cell_type": "code",
   "execution_count": null,
   "metadata": {},
   "outputs": [],
   "source": [
    "# Keras 모델로 변환합니다.\n",
    "keras_model = tf.keras.models.load_model(tf_model)\n"
   ]
  }
 ],
 "metadata": {
  "kernelspec": {
   "display_name": "base",
   "language": "python",
   "name": "python3"
  },
  "language_info": {
   "codemirror_mode": {
    "name": "ipython",
    "version": 3
   },
   "file_extension": ".py",
   "mimetype": "text/x-python",
   "name": "python",
   "nbconvert_exporter": "python",
   "pygments_lexer": "ipython3",
   "version": "3.9.13"
  },
  "orig_nbformat": 4
 },
 "nbformat": 4,
 "nbformat_minor": 2
}
